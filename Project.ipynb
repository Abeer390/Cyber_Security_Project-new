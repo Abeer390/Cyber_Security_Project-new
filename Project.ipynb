{
  "nbformat": 4,
  "nbformat_minor": 0,
  "metadata": {
    "colab": {
      "provenance": [],
      "gpuType": "T4"
    },
    "kernelspec": {
      "name": "python3",
      "display_name": "Python 3"
    },
    "language_info": {
      "name": "python"
    },
    "accelerator": "GPU"
  },
  "cells": [
    {
      "cell_type": "code",
      "execution_count": null,
      "metadata": {
        "id": "gTZhL8fYDWNb"
      },
      "outputs": [],
      "source": [
        "import pandas as pd\n",
        "import matplotlib.pyplot as plt\n",
        "import numpy as np\n",
        "from sklearn.model_selection import train_test_split\n",
        "from sklearn.preprocessing import LabelEncoder, StandardScaler\n",
        "import tensorflow as tf\n",
        "from tensorflow.keras.models import Sequential\n",
        "from tensorflow.keras.layers import Conv1D, MaxPooling1D, Flatten, Dense, Dropout\n",
        "from tensorflow.keras.regularizers import l2\n",
        "\n",
        "# Step 1: Load Dataset\n",
        "file_path = \"/content/drive/MyDrive/Colab Notebooks/IIoT_Malware_Timeseries_Dataset.csv\"\n",
        "data = pd.read_csv(file_path)"
      ]
    },
    {
      "cell_type": "code",
      "source": [
        "data.info()"
      ],
      "metadata": {
        "colab": {
          "base_uri": "https://localhost:8080/"
        },
        "id": "cLsCegagD_Hc",
        "outputId": "62003c9e-0a82-4f96-87ba-83271b9e1d8c"
      },
      "execution_count": null,
      "outputs": [
        {
          "output_type": "stream",
          "name": "stdout",
          "text": [
            "<class 'pandas.core.frame.DataFrame'>\n",
            "RangeIndex: 45289 entries, 0 to 45288\n",
            "Data columns (total 37 columns):\n",
            " #   Column                    Non-Null Count  Dtype  \n",
            "---  ------                    --------------  -----  \n",
            " 0   Timestamp                 45289 non-null  object \n",
            " 1   Packet Size               45174 non-null  float64\n",
            " 2   Packet Length             45219 non-null  float64\n",
            " 3   Inter-Arrival Time        45289 non-null  float64\n",
            " 4   Protocol Type             45289 non-null  object \n",
            " 5   Flags                     45289 non-null  object \n",
            " 6   Source IP                 45289 non-null  int64  \n",
            " 7   Destination IP            45289 non-null  int64  \n",
            " 8   Source Port               45289 non-null  int64  \n",
            " 9   Destination Port          45289 non-null  int64  \n",
            " 10  Flow Duration             44991 non-null  float64\n",
            " 11  Total Packets             44841 non-null  float64\n",
            " 12  Total Bytes               44988 non-null  float64\n",
            " 13  Average Packet Size       44541 non-null  float64\n",
            " 14  Packet Arrival Rate       44548 non-null  float64\n",
            " 15  Payload Entropy           45029 non-null  float64\n",
            " 16  Flow Entropy              45252 non-null  float64\n",
            " 17  Baseline Deviation        45289 non-null  float64\n",
            " 18  Packet Size Variance      44292 non-null  float64\n",
            " 19  Payload Pattern           45289 non-null  object \n",
            " 20  Malicious Signatures      45289 non-null  int64  \n",
            " 21  Embedded Commands         45289 non-null  int64  \n",
            " 22  Device Type               45289 non-null  object \n",
            " 23  Device Activity Patterns  45284 non-null  float64\n",
            " 24  CPU Usage                 44927 non-null  float64\n",
            " 25  Memory Usage              45064 non-null  float64\n",
            " 26  Network Interface Stats   44623 non-null  float64\n",
            " 27  Time of Day               45289 non-null  int64  \n",
            " 28  Day of Week               45289 non-null  int64  \n",
            " 29  Duration Anomaly          43918 non-null  float64\n",
            " 30  Known IoC                 45289 non-null  int64  \n",
            " 31  C&C Communication         45289 non-null  int64  \n",
            " 32  Data Exfiltration         45289 non-null  int64  \n",
            " 33  Label                     45289 non-null  object \n",
            " 34  Attack Type               22677 non-null  object \n",
            " 35  Device Context            45289 non-null  object \n",
            " 36  Threat Intensity          45289 non-null  object \n",
            "dtypes: float64(17), int64(11), object(9)\n",
            "memory usage: 12.8+ MB\n"
          ]
        }
      ]
    },
    {
      "cell_type": "code",
      "source": [
        "# Step 2: Preprocess Dataset\n",
        "# Convert datetime columns to numeric (if any)\n",
        "for col in data.columns:\n",
        "    if pd.api.types.is_datetime64_any_dtype(data[col]) or pd.to_datetime(data[col], errors='coerce').notnull().all():\n",
        "        data[col] = pd.to_datetime(data[col], errors='coerce').astype('int64') // 10**9\n",
        "\n",
        "# Handle missing values\n",
        "for col in data.columns:\n",
        "    if data[col].dtype == 'object':\n",
        "        data[col].fillna(data[col].mode()[0], inplace=True)  # Fill categorical columns with mode\n",
        "    else:\n",
        "        data[col].fillna(data[col].mean(), inplace=True)  # Fill numeric columns with mean\n",
        "\n",
        "# Encode categorical columns\n",
        "categorical_columns = data.select_dtypes(include=['object']).columns\n",
        "label_encoders = {}\n",
        "for col in categorical_columns:\n",
        "    le = LabelEncoder()\n",
        "    data[col] = le.fit_transform(data[col])\n",
        "    label_encoders[col] = le\n"
      ],
      "metadata": {
        "colab": {
          "base_uri": "https://localhost:8080/"
        },
        "id": "9UcTKxJFDwmG",
        "outputId": "7e6cb7d3-fb8c-45d5-e720-173f3da3a579"
      },
      "execution_count": null,
      "outputs": [
        {
          "output_type": "stream",
          "name": "stderr",
          "text": [
            "<ipython-input-3-b05e59396278>:4: UserWarning: Could not infer format, so each element will be parsed individually, falling back to `dateutil`. To ensure parsing is consistent and as-expected, please specify a format.\n",
            "  if pd.api.types.is_datetime64_any_dtype(data[col]) or pd.to_datetime(data[col], errors='coerce').notnull().all():\n",
            "<ipython-input-3-b05e59396278>:4: UserWarning: Could not infer format, so each element will be parsed individually, falling back to `dateutil`. To ensure parsing is consistent and as-expected, please specify a format.\n",
            "  if pd.api.types.is_datetime64_any_dtype(data[col]) or pd.to_datetime(data[col], errors='coerce').notnull().all():\n",
            "<ipython-input-3-b05e59396278>:4: UserWarning: Could not infer format, so each element will be parsed individually, falling back to `dateutil`. To ensure parsing is consistent and as-expected, please specify a format.\n",
            "  if pd.api.types.is_datetime64_any_dtype(data[col]) or pd.to_datetime(data[col], errors='coerce').notnull().all():\n",
            "<ipython-input-3-b05e59396278>:4: UserWarning: Could not infer format, so each element will be parsed individually, falling back to `dateutil`. To ensure parsing is consistent and as-expected, please specify a format.\n",
            "  if pd.api.types.is_datetime64_any_dtype(data[col]) or pd.to_datetime(data[col], errors='coerce').notnull().all():\n",
            "<ipython-input-3-b05e59396278>:4: UserWarning: Could not infer format, so each element will be parsed individually, falling back to `dateutil`. To ensure parsing is consistent and as-expected, please specify a format.\n",
            "  if pd.api.types.is_datetime64_any_dtype(data[col]) or pd.to_datetime(data[col], errors='coerce').notnull().all():\n",
            "<ipython-input-3-b05e59396278>:4: UserWarning: Could not infer format, so each element will be parsed individually, falling back to `dateutil`. To ensure parsing is consistent and as-expected, please specify a format.\n",
            "  if pd.api.types.is_datetime64_any_dtype(data[col]) or pd.to_datetime(data[col], errors='coerce').notnull().all():\n",
            "<ipython-input-3-b05e59396278>:4: UserWarning: Could not infer format, so each element will be parsed individually, falling back to `dateutil`. To ensure parsing is consistent and as-expected, please specify a format.\n",
            "  if pd.api.types.is_datetime64_any_dtype(data[col]) or pd.to_datetime(data[col], errors='coerce').notnull().all():\n",
            "<ipython-input-3-b05e59396278>:4: UserWarning: Could not infer format, so each element will be parsed individually, falling back to `dateutil`. To ensure parsing is consistent and as-expected, please specify a format.\n",
            "  if pd.api.types.is_datetime64_any_dtype(data[col]) or pd.to_datetime(data[col], errors='coerce').notnull().all():\n",
            "<ipython-input-3-b05e59396278>:12: FutureWarning: A value is trying to be set on a copy of a DataFrame or Series through chained assignment using an inplace method.\n",
            "The behavior will change in pandas 3.0. This inplace method will never work because the intermediate object on which we are setting values always behaves as a copy.\n",
            "\n",
            "For example, when doing 'df[col].method(value, inplace=True)', try using 'df.method({col: value}, inplace=True)' or df[col] = df[col].method(value) instead, to perform the operation inplace on the original object.\n",
            "\n",
            "\n",
            "  data[col].fillna(data[col].mean(), inplace=True)  # Fill numeric columns with mean\n",
            "<ipython-input-3-b05e59396278>:10: FutureWarning: A value is trying to be set on a copy of a DataFrame or Series through chained assignment using an inplace method.\n",
            "The behavior will change in pandas 3.0. This inplace method will never work because the intermediate object on which we are setting values always behaves as a copy.\n",
            "\n",
            "For example, when doing 'df[col].method(value, inplace=True)', try using 'df.method({col: value}, inplace=True)' or df[col] = df[col].method(value) instead, to perform the operation inplace on the original object.\n",
            "\n",
            "\n",
            "  data[col].fillna(data[col].mode()[0], inplace=True)  # Fill categorical columns with mode\n"
          ]
        }
      ]
    },
    {
      "cell_type": "code",
      "source": [
        "# Step 3: Prepare Features and Target\n",
        "X = data.drop(columns=['Label'])  # Replace 'Attack Type' with the actual target column name\n",
        "y = data['Label']\n",
        "\n",
        "# Normalize features\n",
        "scaler = StandardScaler()\n",
        "X = scaler.fit_transform(X)\n",
        "\n",
        "# Reshape target for CNN compatibility (One-hot encode for multi-class classification)\n",
        "if len(y.unique()) > 2:\n",
        "    y = pd.get_dummies(y).values\n",
        "\n",
        "# Split dataset\n",
        "X_train, X_temp, y_train, y_temp = train_test_split(X, y, test_size=0.3, random_state=42)\n",
        "X_val, X_test, y_val, y_test = train_test_split(X_temp, y_temp, test_size=0.5, random_state=42)\n",
        "\n",
        "# Reshape X for CNN input\n",
        "X_train = np.expand_dims(X_train, axis=-1)\n",
        "X_val = np.expand_dims(X_val, axis=-1)\n",
        "X_test = np.expand_dims(X_test, axis=-1)"
      ],
      "metadata": {
        "id": "7ErOkD4ODt2G"
      },
      "execution_count": null,
      "outputs": []
    },
    {
      "cell_type": "code",
      "source": [
        "# Step 4: Build CNN Model\n",
        "model = Sequential([\n",
        "    tf.keras.Input(shape=(X_train.shape[1], 1)),\n",
        "    Conv1D(filters=64, kernel_size=3, activation=\"relu\", kernel_regularizer=l2(0.01)),\n",
        "    MaxPooling1D(pool_size=2),\n",
        "    Dropout(0.3),\n",
        "    Conv1D(filters=128, kernel_size=3, activation=\"relu\", kernel_regularizer=l2(0.01)),\n",
        "    MaxPooling1D(pool_size=2),\n",
        "    Dropout(0.3),\n",
        "    Flatten(),\n",
        "    Dense(256, activation=\"relu\", kernel_regularizer=l2(0.01)),\n",
        "    Dropout(0.4),\n",
        "    Dense(y_train.shape[1] if len(y_train.shape) > 1 else 1, activation=\"softmax\" if len(y_train.shape) > 1 else \"sigmoid\")\n",
        "])\n"
      ],
      "metadata": {
        "id": "5Li2X-XzDsIL"
      },
      "execution_count": null,
      "outputs": []
    },
    {
      "cell_type": "code",
      "source": [
        "# Step 5: Compile the Model\n",
        "loss = \"categorical_crossentropy\" if len(y_train.shape) > 1 else \"binary_crossentropy\"\n",
        "model.compile(optimizer=\"Adam\", loss=loss, metrics=[\"accuracy\"])\n"
      ],
      "metadata": {
        "id": "h8ZYHESxDqNQ"
      },
      "execution_count": null,
      "outputs": []
    },
    {
      "cell_type": "code",
      "source": [
        "# Step 6: Train the Model\n",
        "history = model.fit(\n",
        "    X_train, y_train,\n",
        "    validation_data=(X_val, y_val),\n",
        "    epochs=20,\n",
        "    batch_size=16,\n",
        "    verbose=1\n",
        ")\n"
      ],
      "metadata": {
        "colab": {
          "base_uri": "https://localhost:8080/"
        },
        "id": "ZPAyz1l7DokW",
        "outputId": "bb1d30d6-1dcd-4922-f0bc-54f5e95a4c7b"
      },
      "execution_count": null,
      "outputs": [
        {
          "output_type": "stream",
          "name": "stdout",
          "text": [
            "Epoch 1/20\n",
            "\u001b[1m1982/1982\u001b[0m \u001b[32m━━━━━━━━━━━━━━━━━━━━\u001b[0m\u001b[37m\u001b[0m \u001b[1m16s\u001b[0m 5ms/step - accuracy: 0.6965 - loss: 1.6773 - val_accuracy: 0.7020 - val_loss: 1.0813\n",
            "Epoch 2/20\n",
            "\u001b[1m1982/1982\u001b[0m \u001b[32m━━━━━━━━━━━━━━━━━━━━\u001b[0m\u001b[37m\u001b[0m \u001b[1m6s\u001b[0m 3ms/step - accuracy: 0.6988 - loss: 1.0906 - val_accuracy: 0.7020 - val_loss: 1.0808\n",
            "Epoch 3/20\n",
            "\u001b[1m1982/1982\u001b[0m \u001b[32m━━━━━━━━━━━━━━━━━━━━\u001b[0m\u001b[37m\u001b[0m \u001b[1m7s\u001b[0m 4ms/step - accuracy: 0.7015 - loss: 1.0868 - val_accuracy: 0.7020 - val_loss: 1.0808\n",
            "Epoch 4/20\n",
            "\u001b[1m1982/1982\u001b[0m \u001b[32m━━━━━━━━━━━━━━━━━━━━\u001b[0m\u001b[37m\u001b[0m \u001b[1m9s\u001b[0m 3ms/step - accuracy: 0.7010 - loss: 1.0864 - val_accuracy: 0.7020 - val_loss: 1.0814\n",
            "Epoch 5/20\n",
            "\u001b[1m1982/1982\u001b[0m \u001b[32m━━━━━━━━━━━━━━━━━━━━\u001b[0m\u001b[37m\u001b[0m \u001b[1m7s\u001b[0m 4ms/step - accuracy: 0.7012 - loss: 1.0863 - val_accuracy: 0.7020 - val_loss: 1.0800\n",
            "Epoch 6/20\n",
            "\u001b[1m1982/1982\u001b[0m \u001b[32m━━━━━━━━━━━━━━━━━━━━\u001b[0m\u001b[37m\u001b[0m \u001b[1m7s\u001b[0m 3ms/step - accuracy: 0.6933 - loss: 1.1050 - val_accuracy: 0.7020 - val_loss: 1.0800\n",
            "Epoch 7/20\n",
            "\u001b[1m1982/1982\u001b[0m \u001b[32m━━━━━━━━━━━━━━━━━━━━\u001b[0m\u001b[37m\u001b[0m \u001b[1m9s\u001b[0m 3ms/step - accuracy: 0.6964 - loss: 1.0976 - val_accuracy: 0.7020 - val_loss: 1.0808\n",
            "Epoch 8/20\n",
            "\u001b[1m1982/1982\u001b[0m \u001b[32m━━━━━━━━━━━━━━━━━━━━\u001b[0m\u001b[37m\u001b[0m \u001b[1m10s\u001b[0m 3ms/step - accuracy: 0.7014 - loss: 1.0830 - val_accuracy: 0.7020 - val_loss: 1.0792\n",
            "Epoch 9/20\n",
            "\u001b[1m1982/1982\u001b[0m \u001b[32m━━━━━━━━━━━━━━━━━━━━\u001b[0m\u001b[37m\u001b[0m \u001b[1m7s\u001b[0m 3ms/step - accuracy: 0.6970 - loss: 1.0950 - val_accuracy: 0.7020 - val_loss: 1.0787\n",
            "Epoch 10/20\n",
            "\u001b[1m1982/1982\u001b[0m \u001b[32m━━━━━━━━━━━━━━━━━━━━\u001b[0m\u001b[37m\u001b[0m \u001b[1m10s\u001b[0m 3ms/step - accuracy: 0.6986 - loss: 1.0919 - val_accuracy: 0.7020 - val_loss: 1.0798\n",
            "Epoch 11/20\n",
            "\u001b[1m1982/1982\u001b[0m \u001b[32m━━━━━━━━━━━━━━━━━━━━\u001b[0m\u001b[37m\u001b[0m \u001b[1m10s\u001b[0m 3ms/step - accuracy: 0.6963 - loss: 1.0952 - val_accuracy: 0.7020 - val_loss: 1.0791\n",
            "Epoch 12/20\n",
            "\u001b[1m1982/1982\u001b[0m \u001b[32m━━━━━━━━━━━━━━━━━━━━\u001b[0m\u001b[37m\u001b[0m \u001b[1m10s\u001b[0m 3ms/step - accuracy: 0.6990 - loss: 1.0882 - val_accuracy: 0.7020 - val_loss: 1.0795\n",
            "Epoch 13/20\n",
            "\u001b[1m1982/1982\u001b[0m \u001b[32m━━━━━━━━━━━━━━━━━━━━\u001b[0m\u001b[37m\u001b[0m \u001b[1m7s\u001b[0m 3ms/step - accuracy: 0.7014 - loss: 1.0831 - val_accuracy: 0.7020 - val_loss: 1.0809\n",
            "Epoch 14/20\n",
            "\u001b[1m1982/1982\u001b[0m \u001b[32m━━━━━━━━━━━━━━━━━━━━\u001b[0m\u001b[37m\u001b[0m \u001b[1m9s\u001b[0m 3ms/step - accuracy: 0.6964 - loss: 1.0956 - val_accuracy: 0.7020 - val_loss: 1.0790\n",
            "Epoch 15/20\n",
            "\u001b[1m1982/1982\u001b[0m \u001b[32m━━━━━━━━━━━━━━━━━━━━\u001b[0m\u001b[37m\u001b[0m \u001b[1m7s\u001b[0m 4ms/step - accuracy: 0.6979 - loss: 1.0913 - val_accuracy: 0.7020 - val_loss: 1.0788\n",
            "Epoch 16/20\n",
            "\u001b[1m1982/1982\u001b[0m \u001b[32m━━━━━━━━━━━━━━━━━━━━\u001b[0m\u001b[37m\u001b[0m \u001b[1m6s\u001b[0m 3ms/step - accuracy: 0.6978 - loss: 1.0897 - val_accuracy: 0.7020 - val_loss: 1.0788\n",
            "Epoch 17/20\n",
            "\u001b[1m1982/1982\u001b[0m \u001b[32m━━━━━━━━━━━━━━━━━━━━\u001b[0m\u001b[37m\u001b[0m \u001b[1m11s\u001b[0m 3ms/step - accuracy: 0.6992 - loss: 1.0876 - val_accuracy: 0.7020 - val_loss: 1.0795\n",
            "Epoch 18/20\n",
            "\u001b[1m1982/1982\u001b[0m \u001b[32m━━━━━━━━━━━━━━━━━━━━\u001b[0m\u001b[37m\u001b[0m \u001b[1m10s\u001b[0m 3ms/step - accuracy: 0.6968 - loss: 1.0941 - val_accuracy: 0.7020 - val_loss: 1.0788\n",
            "Epoch 19/20\n",
            "\u001b[1m1982/1982\u001b[0m \u001b[32m━━━━━━━━━━━━━━━━━━━━\u001b[0m\u001b[37m\u001b[0m \u001b[1m7s\u001b[0m 3ms/step - accuracy: 0.6969 - loss: 1.0939 - val_accuracy: 0.7020 - val_loss: 1.0790\n",
            "Epoch 20/20\n",
            "\u001b[1m1982/1982\u001b[0m \u001b[32m━━━━━━━━━━━━━━━━━━━━\u001b[0m\u001b[37m\u001b[0m \u001b[1m6s\u001b[0m 3ms/step - accuracy: 0.6961 - loss: 1.0954 - val_accuracy: 0.7020 - val_loss: 1.0791\n"
          ]
        }
      ]
    },
    {
      "cell_type": "code",
      "source": [
        "# Step 7: Evaluate the Model\n",
        "test_loss, test_accuracy = model.evaluate(X_test, y_test, verbose=1)\n",
        "print(f\"Test Loss: {test_loss}\")\n",
        "print(f\"Test Accuracy: {test_accuracy}\")"
      ],
      "metadata": {
        "colab": {
          "base_uri": "https://localhost:8080/"
        },
        "id": "-ZQFUzR8DjPY",
        "outputId": "da7608aa-90d5-4723-bfef-d5052bb2cebd"
      },
      "execution_count": null,
      "outputs": [
        {
          "output_type": "stream",
          "name": "stdout",
          "text": [
            "\u001b[1m213/213\u001b[0m \u001b[32m━━━━━━━━━━━━━━━━━━━━\u001b[0m\u001b[37m\u001b[0m \u001b[1m1s\u001b[0m 4ms/step - accuracy: 0.7057 - loss: 1.0722\n",
            "Test Loss: 1.0915067195892334\n",
            "Test Accuracy: 0.6972328424453735\n"
          ]
        }
      ]
    },
    {
      "cell_type": "code",
      "source": [
        "# Plot training history\n",
        "plt.figure(figsize=(12, 6))\n",
        "\n",
        "# Plot accuracy\n",
        "plt.subplot(1, 2, 1)\n",
        "plt.plot(history.history['accuracy'], label='Train Accuracy')\n",
        "plt.plot(history.history['val_accuracy'], label='Validation Accuracy')\n",
        "plt.title('Accuracy')\n",
        "plt.xlabel('Epochs')\n",
        "plt.ylabel('Accuracy')\n",
        "plt.legend()\n",
        "\n",
        "# Plot loss\n",
        "plt.subplot(1, 2, 2)\n",
        "plt.plot(history.history['loss'], label='Train Loss')\n",
        "plt.plot(history.history['val_loss'], label='Validation Loss')\n",
        "plt.title('Loss')\n",
        "plt.xlabel('Epochs')\n",
        "plt.ylabel('Loss')\n",
        "plt.legend()\n",
        "\n",
        "plt.show()"
      ],
      "metadata": {
        "colab": {
          "base_uri": "https://localhost:8080/",
          "height": 564
        },
        "id": "2ETWgJkljmyE",
        "outputId": "051de110-e6a8-469c-8aa0-4cba598ad56f"
      },
      "execution_count": null,
      "outputs": [
        {
          "output_type": "display_data",
          "data": {
            "text/plain": [
              "<Figure size 1200x600 with 2 Axes>"
            ],
            "image/png": "[encoded data removed]"
          },
          "metadata": {}
        }
      ]
    }
  ]
}